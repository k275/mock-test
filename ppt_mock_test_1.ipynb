{
  "nbformat": 4,
  "nbformat_minor": 0,
  "metadata": {
    "colab": {
      "provenance": []
    },
    "kernelspec": {
      "name": "python3",
      "display_name": "Python 3"
    },
    "language_info": {
      "name": "python"
    }
  },
  "cells": [
    {
      "cell_type": "markdown",
      "source": [
        " <font color=#FF0000>\n",
        "Q1\n",
        "Move Zeroes\n",
        "Given an integer array nums, move all 0's to the end of it while maintaining the relative order of the non-zero elements.<br><br>\n",
        "Note that you must do this in-place without making a copy of the array.<br>Example 1:\n",
        "Input: nums = [0,1,0,3,12]\n",
        "Output: [1,3,12,0,0]<br>\n",
        "Example 2:\n",
        "Input: nums = [0]\n",
        "Output: [0]<br>\n",
        "constraints:<br>\n",
        "a. 1 <= nums.length <= 10^4<br>\n",
        "b. -2^31 <= nums[i] <= 2^31 - 1\n",
        "\n",
        "</font>\n"
      ],
      "metadata": {
        "id": "JvmpFXKpPo5_"
      }
    },
    {
      "cell_type": "code",
      "source": [
        "def moveZeroes(nums):\n",
        "    # Initialize a pointer for placing non-zero elements\n",
        "    nonZeroPointer = 0\n",
        "\n",
        "    # Iterate through the array\n",
        "    for i in range(len(nums)):\n",
        "        # If the current element is non-zero, place it at the nonZeroPointer position\n",
        "        if nums[i] != 0:\n",
        "            nums[nonZeroPointer] = nums[i]\n",
        "            nonZeroPointer += 1\n",
        "\n",
        "    # Fill the remaining positions with zeroes\n",
        "    while nonZeroPointer < len(nums):\n",
        "        nums[nonZeroPointer] = 0\n",
        "        nonZeroPointer += 1\n",
        "\n",
        "    return nums\n",
        "nums = [0, 1, 0, 0, 12,3,2,5,0]\n",
        "print(moveZeroes(nums))"
      ],
      "metadata": {
        "colab": {
          "base_uri": "https://localhost:8080/"
        },
        "id": "hgQSAWwNLqkb",
        "outputId": "1a101b43-045f-4eeb-8c7b-9b8b75f01e50"
      },
      "execution_count": 12,
      "outputs": [
        {
          "output_type": "stream",
          "name": "stdout",
          "text": [
            "[1, 12, 3, 2, 5, 0, 0, 0, 0]\n"
          ]
        }
      ]
    },
    {
      "cell_type": "markdown",
      "source": [
        "Q2--First Unique Character in a String\n",
        "\n",
        "Given a string s, find the first non-repeating character in it and return its index. If it does not exist, return -1.\n",
        "\n",
        "Example 1:\n",
        "Input: s = \"leetcode\"\n",
        "Output: 0\n",
        "\n",
        "Example 2:\n",
        "Input: s = \"loveleetcode\"\n",
        "Output: 2\n",
        "\n",
        "Example 3:\n",
        "Input: s = \"aabb\"\n",
        "Output: -1\n",
        "\n",
        "Constraints:\n",
        "a. 1 <= s.length <= 10^5\n",
        "b. s consists of only lowercase English letters."
      ],
      "metadata": {
        "id": "UB0XzH2mRd9-"
      }
    },
    {
      "cell_type": "code",
      "source": [
        "def firstUniqChar(s):\n",
        "    # Create a dictionary to count the occurrences of each character\n",
        "    char_counts = {}\n",
        "\n",
        "    # Count the occurrences of each character in the string\n",
        "    for char in s:\n",
        "        char_counts[char] = char_counts.get(char, 0) + 1\n",
        "\n",
        "    # Iterate through the string to find the first non-repeating character\n",
        "    for i in range(len(s)):\n",
        "        if char_counts[s[i]] == 1:\n",
        "            return i\n",
        "\n",
        "    # If no non-repeating character is found, return -1\n",
        "    return -1\n",
        "s = \"leetcode\"\n",
        "print(firstUniqChar(s))\n",
        "s = \"aabb\"\n",
        "print(firstUniqChar(s))\n"
      ],
      "metadata": {
        "colab": {
          "base_uri": "https://localhost:8080/"
        },
        "id": "G26ENNokPEVb",
        "outputId": "945afe94-9b92-4400-c5c8-5d8bc099c2cd"
      },
      "execution_count": 14,
      "outputs": [
        {
          "output_type": "stream",
          "name": "stdout",
          "text": [
            "0\n",
            "-1\n"
          ]
        }
      ]
    },
    {
      "cell_type": "code",
      "source": [],
      "metadata": {
        "id": "XJ2WXKuvRr-9"
      },
      "execution_count": null,
      "outputs": []
    }
  ]
}